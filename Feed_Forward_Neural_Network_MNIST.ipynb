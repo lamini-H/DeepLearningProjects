{
  "nbformat": 4,
  "nbformat_minor": 0,
  "metadata": {
    "colab": {
      "provenance": [],
      "gpuType": "T4",
      "authorship_tag": "ABX9TyMXefF5KlPQc74LOH4VzaAJ",
      "include_colab_link": true
    },
    "kernelspec": {
      "name": "python3",
      "display_name": "Python 3"
    },
    "language_info": {
      "name": "python"
    },
    "accelerator": "GPU"
  },
  "cells": [
    {
      "cell_type": "markdown",
      "metadata": {
        "id": "view-in-github",
        "colab_type": "text"
      },
      "source": [
        "<a href=\"https://colab.research.google.com/github/lamini-H/DeepLearningProjects/blob/main/Feed_Forward_Neural_Network_MNIST.ipynb\" target=\"_parent\"><img src=\"https://colab.research.google.com/assets/colab-badge.svg\" alt=\"Open In Colab\"/></a>"
      ]
    },
    {
      "cell_type": "code",
      "execution_count": 1,
      "metadata": {
        "id": "i3entK7Q5rjO"
      },
      "outputs": [],
      "source": [
        "import torch\n",
        "import torch.nn as nn\n",
        "import torchvision.datasets as datasets\n",
        "import torchvision.transforms as transforms\n",
        "from torch.autograd import Variable"
      ]
    },
    {
      "cell_type": "code",
      "source": [
        "input_size = 784 #number of input neurons\n",
        "hidden_size = 400 #number of hidden neurons\n",
        "out_size = 10 #number of classes (0-9)\n",
        "epochs = 10 #How many times we pass our entire dataset into our network\n",
        "batch_size = 100 #Input size of the data during one iteration\n",
        "learning_rate = 0.001 #How fast we are learning"
      ],
      "metadata": {
        "id": "UpX_WQFQ6E6j"
      },
      "execution_count": 3,
      "outputs": []
    },
    {
      "cell_type": "code",
      "source": [
        "train_dataset = datasets.MNIST(root='./data',\n",
        "                           train=True,\n",
        "                           transform=transforms.ToTensor(),\n",
        "                           download=True)\n",
        "\n",
        "test_dataset = datasets.MNIST(root='./data',\n",
        "                           train=False,\n",
        "                           transform=transforms.ToTensor())"
      ],
      "metadata": {
        "id": "0901TZh0-BIO"
      },
      "execution_count": 26,
      "outputs": []
    },
    {
      "cell_type": "code",
      "source": [
        "#make data iterable by loading it to a loader. Shuffle the training data to make it independant of the order\n",
        "train_loader = torch.utils.data.DataLoader(dataset=train_dataset,\n",
        "                                          batch_size=batch_size,\n",
        "                                          shuffle=True)\n",
        "test_loader = torch.utils.data.DataLoader(dataset=test_dataset,\n",
        "                                          batch_size=batch_size,\n",
        "                                          shuffle=False)"
      ],
      "metadata": {
        "id": "of1wM5Su-vW6"
      },
      "execution_count": 27,
      "outputs": []
    },
    {
      "cell_type": "code",
      "source": [
        "class Net(nn.Module):\n",
        "    def __init__(self, input_size, hidden_size, out_size):\n",
        "        super(Net, self).__init__()\n",
        "        self.fc1 = nn.Linear(input_size, hidden_size) #First Layer\n",
        "        self.relu = nn.ReLU() #First Layer Activation\n",
        "        self.fc2 = nn.Linear(hidden_size, hidden_size) #Second Layer\n",
        "        self.fc3 = nn.Linear(hidden_size, out_size) #Second Layer Activation\n",
        "\n",
        "    def forward(self, x):\n",
        "        out = self.fc1(x)\n",
        "        out = self.relu(out)\n",
        "        out = self.fc2(out)\n",
        "        out = self.relu(out)\n",
        "        out = self.fc3(out)\n",
        "        return out"
      ],
      "metadata": {
        "id": "KE6Y5pPL_Udl"
      },
      "execution_count": 6,
      "outputs": []
    },
    {
      "cell_type": "code",
      "source": [
        "#Create an object of the class to represent the network\n",
        "net=Net(input_size, hidden_size, out_size)\n",
        "CUDA = torch.cuda.is_available()\n",
        "if CUDA:\n",
        "  net = net.cuda()\n",
        "#The Loss function. The Cross Ent\n",
        "criterion = nn.CrossEntropyLoss()\n",
        "optimizer = torch.optim.Adam(net.parameters(), lr=learning_rate)"
      ],
      "metadata": {
        "id": "pD2Wg6Y7CVak"
      },
      "execution_count": 7,
      "outputs": []
    },
    {
      "cell_type": "code",
      "source": [
        "#visualize the train loader\n",
        "for i, (images, labels) in enumerate(train_loader):\n",
        "  print(images.size())\n",
        "  images = images.view(-1, 28*28)\n",
        "  print(images.size())\n",
        "  break"
      ],
      "metadata": {
        "colab": {
          "base_uri": "https://localhost:8080/"
        },
        "id": "d8rLzgykDJ8I",
        "outputId": "640c2a93-b640-4fd1-f60e-248975fdde3c"
      },
      "execution_count": 13,
      "outputs": [
        {
          "output_type": "stream",
          "name": "stdout",
          "text": [
            "torch.Size([100, 1, 28, 28])\n",
            "torch.Size([100, 784])\n"
          ]
        }
      ]
    },
    {
      "cell_type": "code",
      "source": [
        "#Train the network\n",
        "correct_train =0\n",
        "total_train =0\n",
        "for epoch in range(epochs):\n",
        "  for i, (images, labels) in enumerate(train_loader):\n",
        "    #Flatten the image from size (batch,1,28,28) --> (100,1,28,28) where 1 represents\n",
        "    #to size (100,784) and wrap it in a variable\n",
        "    images = Variable(images.view(-1, 28*28))\n",
        "    labels = Variable(labels)\n",
        "    if CUDA:\n",
        "      images = images.cuda()\n",
        "      labels = labels.cuda()\n",
        "      #Clear the param_grad in param = param - lr*param_grad, so it won't be accumulated\n",
        "    optimizer.zero_grad()\n",
        "    outputs = net(images)\n",
        "    _, predicted = torch.max(outputs.data, 1) #Forward pass\n",
        "    total_train += labels.size(0) #Return the second argument\n",
        "    if CUDA:\n",
        "      correct_train += (predicted.cpu() == labels.cpu()).sum().item()\n",
        "    else:\n",
        "      correct_train += (predicted == labels).sum().item()\n",
        "    loss = criterion(outputs, labels) #Difference between the actual and predicted (loss function)\n",
        "    loss.backward() #Backpropagation\n",
        "    optimizer.step() #Upadate the weights\n",
        "  if(i+1) % 100 ==0:\n",
        "    print(\"Epoch [{}/{}], Iteration [{}/{}], Training Loss: {}, Training Accurancy: {}%\".format(epoch+1, epochs, i+1, len(train_dataset)//batch_size, loss.data[0], (100*correct_train/total_train)))\n",
        "\n",
        "print(\"Finished Training\")"
      ],
      "metadata": {
        "colab": {
          "base_uri": "https://localhost:8080/"
        },
        "id": "Y_LLZcypDBE9",
        "outputId": "bc3114b3-b7d9-4772-ee43-633168947d9e"
      },
      "execution_count": 16,
      "outputs": [
        {
          "output_type": "stream",
          "name": "stdout",
          "text": [
            "Epoch [1/10], Iteration [600/600], Training Loss: 0.05147162452340126, Training Accurancy: 97.08833333333334%\n",
            "Epoch [2/10], Iteration [600/600], Training Loss: 0.05759261175990105, Training Accurancy: 97.57%\n",
            "Epoch [3/10], Iteration [600/600], Training Loss: 0.04583241418004036, Training Accurancy: 97.89833333333333%\n",
            "Epoch [4/10], Iteration [600/600], Training Loss: 0.012083543464541435, Training Accurancy: 98.16291666666666%\n",
            "Epoch [5/10], Iteration [600/600], Training Loss: 0.029212022200226784, Training Accurancy: 98.349%\n",
            "Epoch [6/10], Iteration [600/600], Training Loss: 0.11228980123996735, Training Accurancy: 98.50944444444444%\n",
            "Epoch [7/10], Iteration [600/600], Training Loss: 0.005967712961137295, Training Accurancy: 98.63214285714285%\n",
            "Epoch [8/10], Iteration [600/600], Training Loss: 0.005918025970458984, Training Accurancy: 98.7325%\n",
            "Epoch [9/10], Iteration [600/600], Training Loss: 0.004324506502598524, Training Accurancy: 98.8212962962963%\n",
            "Epoch [10/10], Iteration [600/600], Training Loss: 0.00046883602044545114, Training Accurancy: 98.8805%\n",
            "Finished Training\n"
          ]
        }
      ]
    },
    {
      "cell_type": "code",
      "source": [
        "#Test the network (No Loss and weight calculation, no weight update)\n",
        "\n",
        "correct = 0\n",
        "total = 0\n",
        "\n",
        "for images, labels in test_loader:\n",
        "  images = Variable(images.view(-1, 28*28))\n",
        "  if CUDA:\n",
        "    images = images.cuda()\n",
        "  outputs = net(images)\n",
        "  _, predicted = torch.max(outputs.data, 1)\n",
        "  total += labels.size(0)\n",
        "  if CUDA:\n",
        "    correct += (predicted.cpu() == labels.cpu()).sum()\n",
        "  else:\n",
        "    correct += (predicted == labels).sum().sum()\n",
        "print(\"Accuracy of the network on the 10000 test images: {}%\".format(100*correct/total))\n",
        "\n"
      ],
      "metadata": {
        "colab": {
          "base_uri": "https://localhost:8080/"
        },
        "id": "yt10VfLaI8Zl",
        "outputId": "77c57372-ccc5-4fea-c124-1c04b90d6549"
      },
      "execution_count": 28,
      "outputs": [
        {
          "output_type": "stream",
          "name": "stdout",
          "text": [
            "Accuracy of the network on the 10000 test images: 98.0199966430664%\n"
          ]
        }
      ]
    },
    {
      "cell_type": "code",
      "source": [],
      "metadata": {
        "id": "QpplemKfMR7q"
      },
      "execution_count": null,
      "outputs": []
    }
  ]
}